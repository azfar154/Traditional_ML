{
  "nbformat": 4,
  "nbformat_minor": 0,
  "metadata": {
    "colab": {
      "name": "Untitled7.ipynb",
      "provenance": [],
      "collapsed_sections": [],
      "include_colab_link": true
    },
    "kernelspec": {
      "name": "python3",
      "display_name": "Python 3"
    },
    "accelerator": "GPU"
  },
  "cells": [
    {
      "cell_type": "markdown",
      "metadata": {
        "id": "view-in-github",
        "colab_type": "text"
      },
      "source": [
        "<a href=\"https://colab.research.google.com/github/azfar154/Traditional_ML/blob/master/JupyterNotebook_Traditonal_ML.ipynb\" target=\"_parent\"><img src=\"https://colab.research.google.com/assets/colab-badge.svg\" alt=\"Open In Colab\"/></a>"
      ]
    },
    {
      "cell_type": "markdown",
      "metadata": {
        "id": "P2Hc_wsfvx0y",
        "colab_type": "text"
      },
      "source": [
        "**IMPORTANT READ ME!!!**\n",
        "You must connect to a hosted gpu don't use your local environment. \n",
        "You can choose to run programs using GPU acceleration or with a TPU\n",
        "\n",
        "\n",
        "\n",
        "Dark Mode is amazing so like on the top bar go to Tools then Preferences then change the mode to dark.\n",
        "\n",
        "\n",
        "\n",
        "AZFAR MOHAMED © High School South"
      ]
    },
    {
      "cell_type": "code",
      "metadata": {
        "id": "df2j6jZn3xh0",
        "colab_type": "code",
        "colab": {}
      },
      "source": [
        "%matplotlib notebook\n",
        "import numpy as np\n",
        "import pandas as pd\n",
        "import seaborn as sn\n",
        "from sklearn.model_selection import train_test_split\n",
        "import matplotlib.pyplot as plt\n",
        "from sklearn.preprocessing import MinMaxScaler\n",
        "from sklearn.datasets import load_breast_cancer"
      ],
      "execution_count": 0,
      "outputs": []
    },
    {
      "cell_type": "markdown",
      "metadata": {
        "id": "tErrOwUB35pO",
        "colab_type": "text"
      },
      "source": [
        "Classifier Methods\n"
      ]
    },
    {
      "cell_type": "markdown",
      "metadata": {
        "id": "Mhn3pJFn3_Ly",
        "colab_type": "text"
      },
      "source": [
        "Logistic Regression\n"
      ]
    },
    {
      "cell_type": "code",
      "metadata": {
        "id": "9fTvv8cE368a",
        "colab_type": "code",
        "outputId": "9691cf7f-42a3-4f36-cb50-6caadb10e015",
        "colab": {
          "base_uri": "https://localhost:8080/",
          "height": 122
        }
      },
      "source": [
        "from sklearn.linear_model import LogisticRegression\n",
        "##Load Breast Cancer Data\n",
        "cancer = load_breast_cancer()\n",
        "(X_cancer, y_cancer) = load_breast_cancer(return_X_y = True)\n",
        "X_train,x_test,y_train,y_test=train_test_split(X_cancer,y_cancer,random_state=0)\n",
        "#Logistic Regression formula uses Linear Regressions formula but makes the output either 0 or 1 it makes a s like line and there is a plane which divides the 2\n",
        "#Formula is 1/1+exp[-(w hat x 0...x hat x n +b hat)]\n",
        "logregress=LogisticRegression().fit(X_train,y_train)\n",
        "print(\"Breast Cancer Data \")\n",
        "print(\"The training data score is {:.2f}\".format(logregress.score(X_train,y_train)))\n",
        "print(\"The testing data score is {:.2f}\".format(logregress.score(x_test,y_test)))"
      ],
      "execution_count": 0,
      "outputs": [
        {
          "output_type": "stream",
          "text": [
            "Breast Cancer Data \n",
            "The training data score is 0.96\n",
            "The testing data score is 0.96\n"
          ],
          "name": "stdout"
        },
        {
          "output_type": "stream",
          "text": [
            "/usr/local/lib/python3.6/dist-packages/sklearn/linear_model/logistic.py:432: FutureWarning: Default solver will be changed to 'lbfgs' in 0.22. Specify a solver to silence this warning.\n",
            "  FutureWarning)\n"
          ],
          "name": "stderr"
        }
      ]
    },
    {
      "cell_type": "markdown",
      "metadata": {
        "id": "g7-I0NCuBU-P",
        "colab_type": "text"
      },
      "source": [
        "SVC"
      ]
    },
    {
      "cell_type": "code",
      "metadata": {
        "id": "xd5z34Ph5Nqk",
        "colab_type": "code",
        "outputId": "f6ed247a-6daa-4b08-81db-c91a20ea6af0",
        "colab": {
          "base_uri": "https://localhost:8080/",
          "height": 258
        }
      },
      "source": [
        "from sklearn.svm import LinearSVC\n",
        "#Using LinearSVC helps increase the margin between the line the margin goes on till it hits a data point\n",
        "clf=LinearSVC().fit(X_train,y_train)\n",
        "print(\"Breast Cancer Data:\")\n",
        "print(\"The training data score is {:.2f}.\".format(clf.score(X_train,y_train)))\n",
        "print(\"The coeficcents are {}\".format(clf.coef_))\n",
        "print(\"The testing data score is {:.2f}.\".format(clf.score(x_test,y_test)))"
      ],
      "execution_count": 0,
      "outputs": [
        {
          "output_type": "stream",
          "text": [
            "Breast Cancer Data:\n",
            "The training data score is 0.92.\n",
            "The coeficcents are [[ 3.03576572e-02  2.01716658e-02  7.36076232e-02  1.69276529e-03\n",
            "  -5.64551792e-04 -3.48668435e-03 -4.66995382e-03 -1.99059616e-03\n",
            "  -8.68052051e-04 -1.06813706e-04  1.08398598e-03  3.90263537e-03\n",
            "  -4.71844747e-03 -1.19430707e-02 -1.71144330e-05 -7.37371883e-04\n",
            "  -8.17611625e-04 -2.62890102e-04 -1.73173167e-04 -4.62683632e-05\n",
            "   3.13779654e-02 -3.31815528e-02 -1.35644001e-02 -8.26181576e-03\n",
            "  -1.14749507e-03 -1.25962569e-02 -1.47397324e-02 -4.39757136e-03\n",
            "  -3.11978870e-03 -1.03990208e-03]]\n",
            "The testing data score is 0.93.\n"
          ],
          "name": "stdout"
        },
        {
          "output_type": "stream",
          "text": [
            "/usr/local/lib/python3.6/dist-packages/sklearn/svm/base.py:929: ConvergenceWarning: Liblinear failed to converge, increase the number of iterations.\n",
            "  \"the number of iterations.\", ConvergenceWarning)\n"
          ],
          "name": "stderr"
        }
      ]
    },
    {
      "cell_type": "markdown",
      "metadata": {
        "id": "jXu9ASN0QcoI",
        "colab_type": "text"
      },
      "source": [
        "KNN NON LINEAR"
      ]
    },
    {
      "cell_type": "code",
      "metadata": {
        "id": "YQbV-zwB_i35",
        "colab_type": "code",
        "outputId": "b8cf365f-65df-4336-bc55-4f645f6c517f",
        "colab": {
          "base_uri": "https://localhost:8080/",
          "height": 68
        }
      },
      "source": [
        "from sklearn.neighbors import KNeighborsClassifier\n",
        "knn=KNeighborsClassifier(n_neighbors=5).fit(X_train,y_train)\n",
        "print(\"Breast Cancer Data:\")\n",
        "print(\"The training data score is {:.2f}\".format(knn.score(X_train,y_train)))\n",
        "print(\"The testing data score is {:.2f}\".format(knn.score(x_test,y_test)))\n"
      ],
      "execution_count": 0,
      "outputs": [
        {
          "output_type": "stream",
          "text": [
            "Breast Cancer Data:\n",
            "The training data score is 0.94\n",
            "The testing data score is 0.94\n"
          ],
          "name": "stdout"
        }
      ]
    },
    {
      "cell_type": "code",
      "metadata": {
        "id": "YYrY_aCASTnm",
        "colab_type": "code",
        "colab": {}
      },
      "source": [
        ""
      ],
      "execution_count": 0,
      "outputs": []
    }
  ]
}